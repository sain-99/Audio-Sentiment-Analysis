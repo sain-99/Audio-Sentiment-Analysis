{
 "cells": [
  {
   "cell_type": "code",
   "execution_count": 2,
   "metadata": {},
   "outputs": [
    {
     "name": "stderr",
     "output_type": "stream",
     "text": [
      "Using TensorFlow backend.\n"
     ]
    }
   ],
   "source": [
    "import os\n",
    "import joblib\n",
    "import numpy as np\n",
    "import matplotlib.pyplot as plt\n",
    "from keras.layers import Dense\n",
    "from keras.layers import Conv1D\n",
    "from keras.layers import Flatten\n",
    "from keras.layers import Dropout\n",
    "from keras.layers import Activation\n",
    "from keras.models import Sequential\n",
    "from sklearn.metrics import confusion_matrix\n",
    "from sklearn.metrics import classification_report\n",
    "from sklearn.model_selection import train_test_split"
   ]
  },
  {
   "cell_type": "code",
   "execution_count": 7,
   "metadata": {},
   "outputs": [],
   "source": [
    "def train_neural_network(X, y) -> None:\n",
    "    \"\"\"\n",
    "    This function trains the neural network.\n",
    "    \"\"\"\n",
    "\n",
    "    X_train, X_test, y_train, y_test = train_test_split(X, y, test_size=0.33, random_state=42)\n",
    "\n",
    "    x_traincnn = np.expand_dims(X_train, axis=2)\n",
    "    x_testcnn = np.expand_dims(X_test, axis=2)\n",
    "\n",
    "    print(x_traincnn.shape, x_testcnn.shape)\n",
    "\n",
    "    model = Sequential()\n",
    "    model.add(Conv1D(64, 5, padding='same',\n",
    "                        input_shape=(40, 1)))\n",
    "    model.add(Activation('relu'))\n",
    "    model.add(Dropout(0.2))\n",
    "    model.add(Flatten())\n",
    "    model.add(Dense(6))\n",
    "    model.add(Activation('softmax'))\n",
    "\n",
    "    print(model.summary)\n",
    "\n",
    "    model.compile(loss='sparse_categorical_crossentropy',\n",
    "                      optimizer='rmsprop',\n",
    "                      metrics=['accuracy'])\n",
    "\n",
    "    cnn_history = model.fit(x_traincnn, y_train,\n",
    "                               batch_size=16, epochs=25,\n",
    "                               validation_data=(x_testcnn, y_test))\n",
    "\n",
    "    # Loss plotting\n",
    "    plt.plot(cnn_history.history['loss'])\n",
    "    plt.plot(cnn_history.history['val_loss'])\n",
    "    plt.title('model loss')\n",
    "    plt.ylabel('loss')\n",
    "    plt.xlabel('epoch')\n",
    "    plt.legend(['train', 'test'], loc='upper left')\n",
    "    plt.savefig('loss.png')\n",
    "    plt.close()\n",
    "\n",
    "    # Accuracy plotting\n",
    "    plt.plot(cnn_history.history['accuracy'])\n",
    "    plt.plot(cnn_history.history['val_accuracy'])\n",
    "    plt.title('model accuracy')\n",
    "    plt.ylabel('acc')\n",
    "    plt.xlabel('epoch')\n",
    "    plt.legend(['train', 'test'], loc='upper left')\n",
    "    plt.savefig('accuracy.png')\n",
    "\n",
    "    predictions = model.predict_classes(x_testcnn)\n",
    "    new_y_test = y_test.astype(int)\n",
    "    matrix = confusion_matrix(new_y_test, predictions)\n",
    "\n",
    "    print(classification_report(new_y_test, predictions))\n",
    "    print(matrix)\n",
    "\n",
    "    model_name = 'emotion_class.h5'\n",
    "\n",
    "    # Save model and weights\n",
    "    if not os.path.isdir(r'C:\\Users\\ASUS\\Desktop\\Projects\\Audio Sentiment Analysis\\model'):\n",
    "        os.makedirs(r'C:\\Users\\ASUS\\Desktop\\Projects\\Audio Sentiment Analysis\\model')\n",
    "    model_path = os.path.join(r'C:\\Users\\ASUS\\Desktop\\Projects\\Audio Sentiment Analysis\\model', model_name)\n",
    "    model.save(model_path)\n",
    "    print('Saved trained model at %s ' % model_path)"
   ]
  },
  {
   "cell_type": "code",
   "execution_count": 8,
   "metadata": {},
   "outputs": [
    {
     "name": "stdout",
     "output_type": "stream",
     "text": [
      "(1954, 40, 1) (963, 40, 1)\n",
      "<bound method Network.summary of <keras.engine.sequential.Sequential object at 0x0000020F08B35160>>\n",
      "Train on 1954 samples, validate on 963 samples\n",
      "Epoch 1/25\n",
      "1954/1954 [==============================] - 0s 178us/step - loss: 3.4875 - accuracy: 0.5629 - val_loss: 1.6139 - val_accuracy: 0.6947\n",
      "Epoch 2/25\n",
      "1954/1954 [==============================] - 0s 140us/step - loss: 1.8495 - accuracy: 0.7021 - val_loss: 2.2940 - val_accuracy: 0.6521\n",
      "Epoch 3/25\n",
      "1954/1954 [==============================] - 0s 143us/step - loss: 1.1740 - accuracy: 0.7492 - val_loss: 1.7277 - val_accuracy: 0.6885\n",
      "Epoch 4/25\n",
      "1954/1954 [==============================] - 0s 140us/step - loss: 0.8266 - accuracy: 0.7932 - val_loss: 0.5713 - val_accuracy: 0.8110\n",
      "Epoch 5/25\n",
      "1954/1954 [==============================] - 0s 135us/step - loss: 0.6155 - accuracy: 0.8106 - val_loss: 0.8673 - val_accuracy: 0.7736\n",
      "Epoch 6/25\n",
      "1954/1954 [==============================] - 0s 138us/step - loss: 0.4841 - accuracy: 0.8337 - val_loss: 0.6654 - val_accuracy: 0.8069\n",
      "Epoch 7/25\n",
      "1954/1954 [==============================] - 0s 136us/step - loss: 0.4222 - accuracy: 0.8480 - val_loss: 0.4295 - val_accuracy: 0.8494\n",
      "Epoch 8/25\n",
      "1954/1954 [==============================] - 0s 134us/step - loss: 0.3797 - accuracy: 0.8608 - val_loss: 0.5077 - val_accuracy: 0.8359\n",
      "Epoch 9/25\n",
      "1954/1954 [==============================] - 0s 138us/step - loss: 0.3499 - accuracy: 0.8634 - val_loss: 0.4651 - val_accuracy: 0.8422\n",
      "Epoch 10/25\n",
      "1954/1954 [==============================] - 0s 138us/step - loss: 0.3394 - accuracy: 0.8705 - val_loss: 0.4372 - val_accuracy: 0.8525\n",
      "Epoch 11/25\n",
      "1954/1954 [==============================] - 0s 139us/step - loss: 0.3265 - accuracy: 0.8705 - val_loss: 0.4027 - val_accuracy: 0.8619\n",
      "Epoch 12/25\n",
      "1954/1954 [==============================] - 0s 146us/step - loss: 0.3080 - accuracy: 0.8802 - val_loss: 0.4006 - val_accuracy: 0.8660\n",
      "Epoch 13/25\n",
      "1954/1954 [==============================] - 0s 160us/step - loss: 0.3064 - accuracy: 0.8751 - val_loss: 0.4378 - val_accuracy: 0.8453\n",
      "Epoch 14/25\n",
      "1954/1954 [==============================] - 0s 158us/step - loss: 0.2876 - accuracy: 0.8869 - val_loss: 0.5367 - val_accuracy: 0.8058\n",
      "Epoch 15/25\n",
      "1954/1954 [==============================] - 0s 150us/step - loss: 0.2893 - accuracy: 0.8905 - val_loss: 0.4381 - val_accuracy: 0.8619\n",
      "Epoch 16/25\n",
      "1954/1954 [==============================] - 0s 134us/step - loss: 0.2855 - accuracy: 0.8925 - val_loss: 0.4331 - val_accuracy: 0.8588\n",
      "Epoch 17/25\n",
      "1954/1954 [==============================] - 0s 134us/step - loss: 0.2600 - accuracy: 0.9017 - val_loss: 0.4541 - val_accuracy: 0.8422\n",
      "Epoch 18/25\n",
      "1954/1954 [==============================] - 0s 143us/step - loss: 0.2599 - accuracy: 0.9038 - val_loss: 0.5355 - val_accuracy: 0.8328\n",
      "Epoch 19/25\n",
      "1954/1954 [==============================] - 0s 143us/step - loss: 0.2575 - accuracy: 0.9038 - val_loss: 0.4232 - val_accuracy: 0.8546\n",
      "Epoch 20/25\n",
      "1954/1954 [==============================] - 0s 133us/step - loss: 0.2497 - accuracy: 0.9115 - val_loss: 0.4680 - val_accuracy: 0.8557\n",
      "Epoch 21/25\n",
      "1954/1954 [==============================] - 0s 133us/step - loss: 0.2516 - accuracy: 0.8971 - val_loss: 0.4288 - val_accuracy: 0.8629\n",
      "Epoch 22/25\n",
      "1954/1954 [==============================] - 0s 137us/step - loss: 0.2360 - accuracy: 0.9135 - val_loss: 0.4354 - val_accuracy: 0.8619\n",
      "Epoch 23/25\n",
      "1954/1954 [==============================] - 0s 141us/step - loss: 0.2450 - accuracy: 0.9084 - val_loss: 0.4153 - val_accuracy: 0.8660\n",
      "Epoch 24/25\n",
      "1954/1954 [==============================] - 0s 136us/step - loss: 0.2277 - accuracy: 0.9120 - val_loss: 0.4728 - val_accuracy: 0.8609\n",
      "Epoch 25/25\n",
      "1954/1954 [==============================] - 0s 133us/step - loss: 0.2262 - accuracy: 0.9145 - val_loss: 0.5292 - val_accuracy: 0.8463\n",
      "              precision    recall  f1-score   support\n",
      "\n",
      "           0       0.95      0.75      0.84       195\n",
      "           1       0.00      0.00      0.00         1\n",
      "           2       0.93      0.77      0.84       243\n",
      "           3       0.83      0.88      0.85       264\n",
      "           4       0.76      0.95      0.84       260\n",
      "\n",
      "    accuracy                           0.85       963\n",
      "   macro avg       0.69      0.67      0.68       963\n",
      "weighted avg       0.86      0.85      0.85       963\n",
      "\n",
      "[[147   0   2  28  18]\n",
      " [  0   0   0   1   0]\n",
      " [  2   0 188  15  38]\n",
      " [  3   0   5 232  24]\n",
      " [  2   0   7   3 248]]\n",
      "Saved trained model at C:\\Users\\ASUS\\Desktop\\Projects\\Audio Sentiment Analysis\\model\\emotion_class.h5 \n"
     ]
    },
    {
     "name": "stderr",
     "output_type": "stream",
     "text": [
      "C:\\Users\\ASUS\\Anaconda\\lib\\site-packages\\sklearn\\metrics\\_classification.py:1221: UndefinedMetricWarning: Precision and F-score are ill-defined and being set to 0.0 in labels with no predicted samples. Use `zero_division` parameter to control this behavior.\n",
      "  _warn_prf(average, modifier, msg_start, len(result))\n"
     ]
    },
    {
     "data": {
      "image/png": "[encoded data removed]",
      "text/plain": [
       "<Figure size 432x288 with 1 Axes>"
      ]
     },
     "metadata": {
      "needs_background": "light"
     },
     "output_type": "display_data"
    }
   ],
   "source": [
    "save_path=r'C:\\Users\\ASUS\\Desktop\\Projects\\Audio Sentiment Analysis\\joblib_features'\n",
    "X = joblib.load(save_path + '/data.joblib')\n",
    "y = joblib.load(save_path + '/labels.joblib')\n",
    "NEURAL_NET = train_neural_network(X=X, y=y)"
   ]
  },
  {
   "cell_type": "code",
   "execution_count": 9,
   "metadata": {},
   "outputs": [],
   "source": [
    "save_path=r'C:\\Users\\ASUS\\Desktop\\Projects\\Audio Sentiment Analysis\\joblib_features'\n",
    "X = joblib.load(save_path + '/data.joblib')\n",
    "y = joblib.load(save_path + '/labels.joblib')\n",
    "X_train, X_test, y_train, y_test = train_test_split(X, y, test_size=0.33, random_state=42)"
   ]
  },
  {
   "cell_type": "code",
   "execution_count": null,
   "metadata": {},
   "outputs": [],
   "source": []
  }
 ],
 "metadata": {
  "kernelspec": {
   "display_name": "Python 3",
   "language": "python",
   "name": "python3"
  },
  "language_info": {
   "codemirror_mode": {
    "name": "ipython",
    "version": 3
   },
   "file_extension": ".py",
   "mimetype": "text/x-python",
   "name": "python",
   "nbconvert_exporter": "python",
   "pygments_lexer": "ipython3",
   "version": "3.7.3"
  }
 },
 "nbformat": 4,
 "nbformat_minor": 2
}
