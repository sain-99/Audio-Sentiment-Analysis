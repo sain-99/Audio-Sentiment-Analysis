{
 "cells": [
  {
   "cell_type": "code",
   "execution_count": 2,
   "metadata": {},
   "outputs": [
    {
     "name": "stderr",
     "output_type": "stream",
     "text": [
      "Using TensorFlow backend.\n"
     ]
    }
   ],
   "source": [
    "import keras\n",
    "import librosa\n",
    "import numpy as np"
   ]
  },
  {
   "cell_type": "code",
   "execution_count": 4,
   "metadata": {},
   "outputs": [],
   "source": [
    "import sys"
   ]
  },
  {
   "cell_type": "code",
   "execution_count": 5,
   "metadata": {},
   "outputs": [],
   "source": [
    "file = r'C:\\Users\\ASUS\\Desktop\\Projects\\Audio Sentiment Analysis\\test.wav'\n",
    "path = r'C:\\Users\\ASUS\\Desktop\\Projects\\Audio Sentiment Analysis\\model\\emotion_class.h5'\n",
    "loaded_model = keras.models.load_model(path)"
   ]
  },
  {
   "cell_type": "code",
   "execution_count": 9,
   "metadata": {},
   "outputs": [],
   "source": [
    "def predict():\n",
    "    data, sampling_rate = librosa.load(file)\n",
    "    mfccs = np.mean(librosa.feature.mfcc(y=data, sr=sampling_rate, n_mfcc=40).T, axis=0)\n",
    "    x = np.expand_dims(mfccs, axis=2)\n",
    "    x = np.expand_dims(x, axis=0)\n",
    "    predictions = loaded_model.predict_classes(x)\n",
    "    print( \"Prediction is\", \" \", map_class_to_emotion(predictions))"
   ]
  },
  {
   "cell_type": "code",
   "execution_count": 10,
   "metadata": {},
   "outputs": [],
   "source": [
    "def map_class_to_emotion(pred):\n",
    "          \n",
    "    label_conversion = {'0': 'neutral',\n",
    "                            '2': 'happy',\n",
    "                            '3':'sad',\n",
    "                            '4': 'angry',\n",
    "                            }\n",
    "    #out of 7 here only 4 emotions are used\n",
    "\n",
    "    for key, value in label_conversion.items():\n",
    "        if int(key) == pred:\n",
    "            label = value\n",
    "    return label"
   ]
  },
  {
   "cell_type": "code",
   "execution_count": 11,
   "metadata": {},
   "outputs": [
    {
     "name": "stdout",
     "output_type": "stream",
     "text": [
      "Prediction is   angry\n"
     ]
    },
    {
     "name": "stderr",
     "output_type": "stream",
     "text": [
      "C:\\Users\\ASUS\\Anaconda\\lib\\site-packages\\ipykernel_launcher.py:4: DeprecationWarning: Both axis > a.ndim and axis < -a.ndim - 1 are deprecated and will raise an AxisError in the future.\n",
      "  after removing the cwd from sys.path.\n"
     ]
    }
   ],
   "source": [
    "file = r'C:\\Users\\ASUS\\Desktop\\Projects\\Audio Sentiment Analysis\\test.wav'\n",
    "predict()"
   ]
  },
  {
   "cell_type": "code",
   "execution_count": null,
   "metadata": {},
   "outputs": [],
   "source": []
  }
 ],
 "metadata": {
  "kernelspec": {
   "display_name": "Python 3",
   "language": "python",
   "name": "python3"
  },
  "language_info": {
   "codemirror_mode": {
    "name": "ipython",
    "version": 3
   },
   "file_extension": ".py",
   "mimetype": "text/x-python",
   "name": "python",
   "nbconvert_exporter": "python",
   "pygments_lexer": "ipython3",
   "version": "3.7.3"
  }
 },
 "nbformat": 4,
 "nbformat_minor": 2
}
